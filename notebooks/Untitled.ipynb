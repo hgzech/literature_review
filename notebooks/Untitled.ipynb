{
 "cells": [
  {
   "cell_type": "code",
   "execution_count": 4,
   "id": "39961978-87dd-4de4-87e2-bb764cd3e00f",
   "metadata": {},
   "outputs": [
    {
     "data": {
      "application/javascript": [
       "function toggler(){\n",
       "    if(window.already_toggling){\n",
       "        // Don't add multiple buttons.\n",
       "        return 0\n",
       "    }\n",
       "    let btn = $('.input').append('<button>Toggle Code</button>')\n",
       "        .children('button');\n",
       "    btn.on('click', function(e){\n",
       "        let tgt = e.currentTarget;\n",
       "        $(tgt).parent().children('.inner_cell').toggle()\n",
       "    })\n",
       "    window.already_toggling = true;\n",
       "}\n"
      ],
      "text/plain": [
       "<IPython.core.display.Javascript object>"
      ]
     },
     "metadata": {},
     "output_type": "display_data"
    }
   ],
   "source": [
    "%%javascript\n",
    "function toggler(){\n",
    "    if(window.already_toggling){\n",
    "        // Don't add multiple buttons.\n",
    "        return 0\n",
    "    }\n",
    "    let btn = $('.input').append('<button>Toggle Code</button>')\n",
    "        .children('button');\n",
    "    btn.on('click', function(e){\n",
    "        let tgt = e.currentTarget;\n",
    "        $(tgt).parent().children('.inner_cell').toggle()\n",
    "    })\n",
    "    window.already_toggling = true;\n",
    "}"
   ]
  },
  {
   "cell_type": "markdown",
   "id": "6ee20a54-fdb4-46ae-ae2f-878e94ace72e",
   "metadata": {},
   "source": [
    "a test"
   ]
  },
  {
   "cell_type": "code",
   "execution_count": 5,
   "id": "6fd571c3-9d76-4e2e-bae6-baf871111d4f",
   "metadata": {},
   "outputs": [
    {
     "data": {
      "text/plain": [
       "5"
      ]
     },
     "execution_count": 5,
     "metadata": {},
     "output_type": "execute_result"
    }
   ],
   "source": [
    "test = 5\n",
    "test"
   ]
  }
 ],
 "metadata": {
  "kernelspec": {
   "display_name": "Python 3 (ipykernel)",
   "language": "python",
   "name": "python3"
  },
  "language_info": {
   "codemirror_mode": {
    "name": "ipython",
    "version": 3
   },
   "file_extension": ".py",
   "mimetype": "text/x-python",
   "name": "python",
   "nbconvert_exporter": "python",
   "pygments_lexer": "ipython3",
   "version": "3.8.12"
  }
 },
 "nbformat": 4,
 "nbformat_minor": 5
}
