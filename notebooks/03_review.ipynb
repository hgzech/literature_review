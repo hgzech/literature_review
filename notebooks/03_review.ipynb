{
 "cells": [
  {
   "cell_type": "code",
   "execution_count": 1,
   "metadata": {},
   "outputs": [],
   "source": [
    "# default_exp review"
   ]
  },
  {
   "cell_type": "markdown",
   "metadata": {},
   "source": [
    "# Review\n",
    "\n",
    "> API details."
   ]
  },
  {
   "cell_type": "code",
   "execution_count": 2,
   "metadata": {},
   "outputs": [],
   "source": [
    "#hide\n",
    "from nbdev.showdoc import *"
   ]
  },
  {
   "cell_type": "code",
   "execution_count": 3,
   "metadata": {},
   "outputs": [],
   "source": [
    "%load_ext autoreload\n",
    "%autoreload 2"
   ]
  },
  {
   "cell_type": "code",
   "execution_count": 4,
   "metadata": {},
   "outputs": [],
   "source": [
    "#export\n",
    "from literature_review.article import make_articles\n",
    "from IPython.display import display, HTML\n",
    "import ipywidgets as widgets\n",
    "from ipywidgets import interact, interactive, fixed, interact_manual, Layout\n",
    "import re\n",
    "from nltk.tokenize.punkt import PunktSentenceTokenizer, PunktParameters\n",
    "import json\n"
   ]
  },
  {
   "cell_type": "code",
   "execution_count": 5,
   "metadata": {},
   "outputs": [],
   "source": [
    "import time\n",
    "class Article_Displayer():\n",
    "    def __init__(self, articles, checks = [], current = 0, search = None, only_unreviewed = True):\n",
    "        \n",
    "        self.current = 0 # current article to display\n",
    "        def is_reviewed(a):\n",
    "            if 'reviewed' in a.annotations.keys():\n",
    "                if a.annotations['reviewed']:\n",
    "                    return True\n",
    "            return False\n",
    "            \n",
    "        if only_unreviewed:\n",
    "            articles = [a for a in articles if not is_reviewed(a)]\n",
    "        self.articles = articles\n",
    "        self.article = self.articles[current]\n",
    "        self.checks = ['reviewed'] + checks \n",
    "        self.search = search\n",
    "        self.create_ui()\n",
    "        self.update_ui()\n",
    "        \n",
    "        \n",
    "    def next_article(self, b):        \n",
    "        self.change_article(1)\n",
    "        \n",
    "    def last_article(self, b):        \n",
    "        self.change_article(-1)\n",
    "        \n",
    "    def change_article(self, increment):\n",
    "        self.abstract.value = \"\"\n",
    "        self.search_results.value = \"\"\n",
    "        with self.output:\n",
    "            self.persist_data()\n",
    "            self.current += increment\n",
    "            self.article = self.articles[self.current]\n",
    "            self.update_ui()\n",
    "            \n",
    "    def store_input(self):\n",
    "        for check in self.check_boxes:\n",
    "            self.article.annotations[check.description] = check.value\n",
    "        self.article.annotations['note'] = self.note.value\n",
    "        \n",
    "    def persist_data(self):\n",
    "        self.store_input()\n",
    "        with open(self.article.path, 'w') as fp:\n",
    "            json.dump(dict(self.article), fp)\n",
    "            \n",
    "    def update_ui(self):\n",
    "        with self.output:\n",
    "            self.title.value = \"<h3>%s</h3><i>%s<i>.\"%(self.articles[self.current].title,self.articles[self.current].path)\n",
    "            self.abstract.value = \"<h3>Abstract:</h3>\"+self.articles[self.current].abstract\n",
    "            \n",
    "        \n",
    "            self.count_display.value = \"%d of %d articles reviewed in this session.\"%(self.current, len(self.articles))\n",
    "            for checkbox in self.check_boxes:\n",
    "                if checkbox.description in self.article.annotations.keys():\n",
    "                    checkbox.value = self.article.annotations[checkbox.description]\n",
    "                else:\n",
    "                    checkbox.value = False\n",
    "                if checkbox.description == 'reviewed':\n",
    "                    checkbox.value = True\n",
    "            if \"note\" in self.article.annotations.keys():\n",
    "                self.note.value = self.article.annotations[\"note\"]\n",
    "            else:\n",
    "                self.note.value = \"\"\n",
    "            if self.search:\n",
    "                self.search_results.value = \"<h3>Search results:</h3>\"+self.extract_sentences(self.search)\n",
    "            \n",
    "        \n",
    "    def extract_sentences(self, search_term):\n",
    "        punkt_param = PunktParameters()\n",
    "        punkt_param.abbrev_types = set(['al'])\n",
    "        sentence_splitter = PunktSentenceTokenizer(punkt_param)\n",
    "        result = \"\"\n",
    "        for section in self.article.sections:\n",
    "            matches = re.findall(search_term, section['text']) \n",
    "            if len(matches):\n",
    "                result += \"<h4>%s</h4>\"%section['heading']\n",
    "                matches = list(set(matches))\n",
    "                sentences = sentence_splitter.tokenize(section['text'])\n",
    "                matched_sentences = []\n",
    "                for i, s in enumerate(sentences):\n",
    "                    for match in matches:\n",
    "                        if match in s:\n",
    "                            s = s.replace(match, \"<b>%s</b>\"%match)\n",
    "                            matched_sentences.append(sentences[i-1]+' '+s)\n",
    "                for ms in matched_sentences:\n",
    "                    result += \"<p>%s</p>\"%ms\n",
    "        return result        \n",
    "    \n",
    "    def create_ui(self):\n",
    "        a = self.article\n",
    "        self.output = widgets.Output()\n",
    "        self.next_button = widgets.Button(description=\"Next\")\n",
    "        self.last_button = widgets.Button(description=\"Last\")\n",
    "\n",
    "        self.next_button.on_click(self.next_article)\n",
    "        self.last_button.on_click(self.last_article)\n",
    "\n",
    "\n",
    "        \n",
    "        self.button_ui = widgets.HBox([self.last_button, self.next_button])\n",
    "        self.check_boxes = []\n",
    "        for check in self.checks:\n",
    "            self.check_boxes.append(widgets.Checkbox(description=check, value= False))\n",
    "            \n",
    "        self.note = widgets.Textarea(\n",
    "            value='',\n",
    "            placeholder='Add notes here',\n",
    "            description='String:',\n",
    "            disabled=False\n",
    "        )\n",
    "        \n",
    "        self.count_display = widgets.HTML(value=\"count\")\n",
    "        \n",
    "        # Making the text UI\n",
    "        self.title = widgets.HTML(value=\"Title\")\n",
    "        self.abstract = widgets.HTML(value=\"Abstract\")\n",
    "        self.search_results = widgets.HTML(value=\"\")\n",
    "        self.text_ui = widgets.VBox([self.title, self.abstract, self.search_results], layout=Layout(width='60%'))\n",
    "        \n",
    "        # Making the action ui\n",
    "        self.action_ui = widgets.VBox([self.button_ui, self.count_display] + self.check_boxes + [self.note, self.output], layout=Layout(width='40%'))\n",
    "        \n",
    "        \n",
    "        self.main_ui = widgets.HBox([self.text_ui,self.action_ui])\n",
    "        display(self.main_ui)"
   ]
  },
  {
   "cell_type": "code",
   "execution_count": 52,
   "metadata": {},
   "outputs": [],
   "source": [
    "articles = make_articles('../data/interim/article_dicts/')"
   ]
  },
  {
   "cell_type": "code",
   "execution_count": 53,
   "metadata": {},
   "outputs": [],
   "source": [
    "import pandas as pd          \n",
    "\n",
    "selection = []\n",
    "for a in articles:\n",
    "    for section in a.sections:\n",
    "        if \"manikin\" in section['text']:\n",
    "            article = a.path.split('/')[-1]\n",
    "            is_intro = 'introduction' in section['heading'].lower()\n",
    "            is_dis = 'discussion' in section['heading'].lower()\n",
    "            if not (is_intro or is_dis):\n",
    "                selection.append(a)\n",
    "selection = list(set(selection))"
   ]
  },
  {
   "cell_type": "code",
   "execution_count": 54,
   "metadata": {},
   "outputs": [
    {
     "data": {
      "application/vnd.jupyter.widget-view+json": {
       "model_id": "929783a00aa44156ac5a68167a98fdde",
       "version_major": 2,
       "version_minor": 0
      },
      "text/plain": [
       "HBox(children=(VBox(children=(HTML(value='Title'), HTML(value='Abstract'), HTML(value='')), layout=Layout(widt…"
      ]
     },
     "metadata": {},
     "output_type": "display_data"
    }
   ],
   "source": [
    "#articles = [a for a in articles if (a.annotations['split-half']==True)]\n",
    "\n",
    "ad = Article_Displayer(selection, \n",
    "                       checks = ['AAT','AAT_uncertain','split-half','retest','reliability_uncertain','animal','drugs','food','general','manikin'],\n",
    "                      #search = r'\\brelia\\w+',\n",
    "                       search = 'manikin',\n",
    "                      only_unreviewed = False)\n",
    "# Todo: add manickin, joystick etc. to categorize AATs"
   ]
  }
 ],
 "metadata": {
  "kernelspec": {
   "display_name": "Python 3 (ipykernel)",
   "language": "python",
   "name": "python3"
  },
  "language_info": {
   "codemirror_mode": {
    "name": "ipython",
    "version": 3
   },
   "file_extension": ".py",
   "mimetype": "text/x-python",
   "name": "python",
   "nbconvert_exporter": "python",
   "pygments_lexer": "ipython3",
   "version": "3.8.12"
  }
 },
 "nbformat": 4,
 "nbformat_minor": 4
}
