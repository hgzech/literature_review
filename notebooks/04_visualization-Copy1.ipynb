{
 "cells": [
  {
   "cell_type": "code",
   "execution_count": null,
   "metadata": {},
   "outputs": [],
   "source": [
    "# default_exp visualization"
   ]
  },
  {
   "cell_type": "markdown",
   "metadata": {},
   "source": [
    "# Review\n",
    "\n",
    "> API details."
   ]
  },
  {
   "cell_type": "code",
   "execution_count": null,
   "metadata": {},
   "outputs": [],
   "source": [
    "#hide\n",
    "from nbdev.showdoc import *"
   ]
  },
  {
   "cell_type": "code",
   "execution_count": 1,
   "metadata": {},
   "outputs": [],
   "source": [
    "%load_ext autoreload\n",
    "%autoreload 2"
   ]
  },
  {
   "cell_type": "code",
   "execution_count": 4,
   "metadata": {},
   "outputs": [],
   "source": [
    "#export\n",
    "from literature_review.article import make_articles\n",
    "import pandas as pd"
   ]
  },
  {
   "cell_type": "code",
   "execution_count": 58,
   "metadata": {},
   "outputs": [],
   "source": [
    "articles = make_articles('../data/interim/article_dicts/')"
   ]
  },
  {
   "cell_type": "code",
   "execution_count": 59,
   "metadata": {},
   "outputs": [],
   "source": [
    "df = pd.DataFrame([dict(a) for a in articles])\n",
    "df = pd.concat([df, pd.json_normalize(df['annotations'])], axis = 1)\n"
   ]
  },
  {
   "cell_type": "markdown",
   "metadata": {},
   "source": [
    "more than half of the studies did not use an AAT"
   ]
  },
  {
   "cell_type": "code",
   "execution_count": 60,
   "metadata": {},
   "outputs": [
    {
     "data": {
      "text/plain": [
       "False    308\n",
       "True     233\n",
       "Name: AAT, dtype: int64"
      ]
     },
     "execution_count": 60,
     "metadata": {},
     "output_type": "execute_result"
    }
   ],
   "source": [
    "df[df.reviewed==True].AAT.value_counts()"
   ]
  },
  {
   "cell_type": "markdown",
   "metadata": {},
   "source": [
    "about a third of those were animal studies."
   ]
  },
  {
   "cell_type": "code",
   "execution_count": 61,
   "metadata": {},
   "outputs": [
    {
     "data": {
      "text/plain": [
       "False    447\n",
       "True      94\n",
       "Name: animal, dtype: int64"
      ]
     },
     "execution_count": 61,
     "metadata": {},
     "output_type": "execute_result"
    }
   ],
   "source": [
    "df.animal.value_counts()"
   ]
  },
  {
   "cell_type": "markdown",
   "metadata": {},
   "source": [
    "The articles that are in both uncertain categories should be checked."
   ]
  },
  {
   "cell_type": "markdown",
   "metadata": {},
   "source": [
    "#### Articles reporting reliability"
   ]
  },
  {
   "cell_type": "markdown",
   "metadata": {},
   "source": [
    "#### Still uncertain"
   ]
  },
  {
   "cell_type": "code",
   "execution_count": 64,
   "metadata": {},
   "outputs": [
    {
     "data": {
      "text/plain": [
       "AAT_uncertain  reliability_uncertain\n",
       "False          False                    445\n",
       "True           False                     62\n",
       "               True                      19\n",
       "False          True                      15\n",
       "dtype: int64"
      ]
     },
     "execution_count": 64,
     "metadata": {},
     "output_type": "execute_result"
    }
   ],
   "source": [
    "df[['AAT_uncertain','reliability_uncertain']].value_counts()"
   ]
  },
  {
   "cell_type": "code",
   "execution_count": 63,
   "metadata": {},
   "outputs": [
    {
     "data": {
      "text/plain": [
       "False    218\n",
       "True      15\n",
       "Name: reliability_uncertain, dtype: int64"
      ]
     },
     "execution_count": 63,
     "metadata": {},
     "output_type": "execute_result"
    }
   ],
   "source": [
    "df[(df.AAT == True)]['reliability_uncertain'].value_counts()"
   ]
  },
  {
   "cell_type": "markdown",
   "metadata": {},
   "source": [
    "#### Split-half"
   ]
  },
  {
   "cell_type": "code",
   "execution_count": 65,
   "metadata": {},
   "outputs": [
    {
     "data": {
      "text/plain": [
       "False    203\n",
       "True      30\n",
       "Name: split-half, dtype: int64"
      ]
     },
     "execution_count": 65,
     "metadata": {},
     "output_type": "execute_result"
    }
   ],
   "source": [
    "df[(df.AAT == True)]['split-half'].value_counts()"
   ]
  },
  {
   "cell_type": "markdown",
   "metadata": {},
   "source": [
    "#### Retest"
   ]
  },
  {
   "cell_type": "code",
   "execution_count": 71,
   "metadata": {},
   "outputs": [
    {
     "data": {
      "text/html": [
       "<div>\n",
       "<style scoped>\n",
       "    .dataframe tbody tr th:only-of-type {\n",
       "        vertical-align: middle;\n",
       "    }\n",
       "\n",
       "    .dataframe tbody tr th {\n",
       "        vertical-align: top;\n",
       "    }\n",
       "\n",
       "    .dataframe thead th {\n",
       "        text-align: right;\n",
       "    }\n",
       "</style>\n",
       "<table border=\"1\" class=\"dataframe\">\n",
       "  <thead>\n",
       "    <tr style=\"text-align: right;\">\n",
       "      <th></th>\n",
       "      <th>path</th>\n",
       "      <th>note</th>\n",
       "    </tr>\n",
       "  </thead>\n",
       "  <tbody>\n",
       "    <tr>\n",
       "      <th>11</th>\n",
       "      <td>../data/interim/article_dicts/Kahveci_2020.json</td>\n",
       "      <td></td>\n",
       "    </tr>\n",
       "    <tr>\n",
       "      <th>266</th>\n",
       "      <td>../data/interim/article_dicts/Reddy_2016.json</td>\n",
       "      <td>not sure if they did split half</td>\n",
       "    </tr>\n",
       "    <tr>\n",
       "      <th>291</th>\n",
       "      <td>../data/interim/article_dicts/Rinck_2018.json</td>\n",
       "      <td>no retest?</td>\n",
       "    </tr>\n",
       "    <tr>\n",
       "      <th>324</th>\n",
       "      <td>../data/interim/article_dicts/Mehl_2018.json</td>\n",
       "      <td>not sure if they report it</td>\n",
       "    </tr>\n",
       "    <tr>\n",
       "      <th>352</th>\n",
       "      <td>../data/interim/article_dicts/Piercy_2021.json</td>\n",
       "      <td></td>\n",
       "    </tr>\n",
       "    <tr>\n",
       "      <th>414</th>\n",
       "      <td>../data/interim/article_dicts/Peeters_2012.json</td>\n",
       "      <td>seems like this is a simple push minus pull di...</td>\n",
       "    </tr>\n",
       "    <tr>\n",
       "      <th>473</th>\n",
       "      <td>../data/interim/article_dicts/Smith_2021_1.json</td>\n",
       "      <td>SRC, quite different from AAT; one-year follow...</td>\n",
       "    </tr>\n",
       "    <tr>\n",
       "      <th>527</th>\n",
       "      <td>../data/interim/article_dicts/Peeters_2013.json</td>\n",
       "      <td></td>\n",
       "    </tr>\n",
       "  </tbody>\n",
       "</table>\n",
       "</div>"
      ],
      "text/plain": [
       "                                                path  \\\n",
       "11   ../data/interim/article_dicts/Kahveci_2020.json   \n",
       "266    ../data/interim/article_dicts/Reddy_2016.json   \n",
       "291    ../data/interim/article_dicts/Rinck_2018.json   \n",
       "324     ../data/interim/article_dicts/Mehl_2018.json   \n",
       "352   ../data/interim/article_dicts/Piercy_2021.json   \n",
       "414  ../data/interim/article_dicts/Peeters_2012.json   \n",
       "473  ../data/interim/article_dicts/Smith_2021_1.json   \n",
       "527  ../data/interim/article_dicts/Peeters_2013.json   \n",
       "\n",
       "                                                  note  \n",
       "11                                                      \n",
       "266                    not sure if they did split half  \n",
       "291                                         no retest?  \n",
       "324                         not sure if they report it  \n",
       "352                                                     \n",
       "414  seems like this is a simple push minus pull di...  \n",
       "473  SRC, quite different from AAT; one-year follow...  \n",
       "527                                                     "
      ]
     },
     "execution_count": 71,
     "metadata": {},
     "output_type": "execute_result"
    }
   ],
   "source": [
    "df[(df.AAT == True) & (df.retest == True)][['path','note']]"
   ]
  },
  {
   "cell_type": "code",
   "execution_count": 66,
   "metadata": {},
   "outputs": [
    {
     "data": {
      "text/plain": [
       "False    225\n",
       "True       8\n",
       "Name: retest, dtype: int64"
      ]
     },
     "execution_count": 66,
     "metadata": {},
     "output_type": "execute_result"
    }
   ],
   "source": [
    "df[(df.AAT == True)].retest.value_counts()"
   ]
  },
  {
   "cell_type": "markdown",
   "metadata": {},
   "source": [
    "##### Don't forget your notes"
   ]
  },
  {
   "cell_type": "code",
   "execution_count": 56,
   "metadata": {},
   "outputs": [
    {
     "data": {
      "text/html": [
       "<div>\n",
       "<style scoped>\n",
       "    .dataframe tbody tr th:only-of-type {\n",
       "        vertical-align: middle;\n",
       "    }\n",
       "\n",
       "    .dataframe tbody tr th {\n",
       "        vertical-align: top;\n",
       "    }\n",
       "\n",
       "    .dataframe thead th {\n",
       "        text-align: right;\n",
       "    }\n",
       "</style>\n",
       "<table border=\"1\" class=\"dataframe\">\n",
       "  <thead>\n",
       "    <tr style=\"text-align: right;\">\n",
       "      <th></th>\n",
       "      <th>authors</th>\n",
       "      <th>pub_date</th>\n",
       "      <th>title</th>\n",
       "      <th>abstract</th>\n",
       "      <th>sections</th>\n",
       "      <th>references</th>\n",
       "      <th>figures</th>\n",
       "      <th>doi</th>\n",
       "      <th>annotations</th>\n",
       "      <th>path</th>\n",
       "      <th>...</th>\n",
       "      <th>AAT</th>\n",
       "      <th>AAT_uncertain</th>\n",
       "      <th>split-half</th>\n",
       "      <th>retest</th>\n",
       "      <th>reliability_uncertain</th>\n",
       "      <th>reviewed</th>\n",
       "      <th>animal</th>\n",
       "      <th>drugs</th>\n",
       "      <th>food</th>\n",
       "      <th>general</th>\n",
       "    </tr>\n",
       "  </thead>\n",
       "  <tbody>\n",
       "    <tr>\n",
       "      <th>11</th>\n",
       "      <td>Sercan Kahveci; Adrian Meule; Anja Lender; Jen...</td>\n",
       "      <td>2020-06-11</td>\n",
       "      <td></td>\n",
       "      <td>In a post-scarcity world, energy intake and ex...</td>\n",
       "      <td>[{'heading': 'Introduction', 'text': '', 'n_pu...</td>\n",
       "      <td>[{'title': '', 'journal': '', 'year': '', 'aut...</td>\n",
       "      <td>[{'figure_label': '2', 'figure_type': '', 'fig...</td>\n",
       "      <td>10.1016/j.appet.2020.104758</td>\n",
       "      <td>{'reviewed': True, 'AAT': True, 'AAT_uncertain...</td>\n",
       "      <td>../data/interim/article_dicts/Kahveci_2020.json</td>\n",
       "      <td>...</td>\n",
       "      <td>True</td>\n",
       "      <td>False</td>\n",
       "      <td>True</td>\n",
       "      <td>True</td>\n",
       "      <td>False</td>\n",
       "      <td>True</td>\n",
       "      <td>False</td>\n",
       "      <td>False</td>\n",
       "      <td>False</td>\n",
       "      <td>True</td>\n",
       "    </tr>\n",
       "    <tr>\n",
       "      <th>266</th>\n",
       "      <td>L Felice Reddy; Michael F Green; Jonathan K Wy...</td>\n",
       "      <td>2016-05-27</td>\n",
       "      <td>Approaching anger in schizophrenia: What an im...</td>\n",
       "      <td>Motivational deficits are important determinan...</td>\n",
       "      <td>[{'heading': 'Introduction', 'text': 'Schizoph...</td>\n",
       "      <td>[{'title': 'Intrinsic motivation in schizophre...</td>\n",
       "      <td>[{'figure_label': '1', 'figure_type': '', 'fig...</td>\n",
       "      <td>10.1016/j.schres.2016.05.018</td>\n",
       "      <td>{'reviewed': True, 'AAT': True, 'AAT_uncertain...</td>\n",
       "      <td>../data/interim/article_dicts/Reddy_2016.json</td>\n",
       "      <td>...</td>\n",
       "      <td>True</td>\n",
       "      <td>False</td>\n",
       "      <td>False</td>\n",
       "      <td>True</td>\n",
       "      <td>True</td>\n",
       "      <td>True</td>\n",
       "      <td>False</td>\n",
       "      <td>False</td>\n",
       "      <td>False</td>\n",
       "      <td>False</td>\n",
       "    </tr>\n",
       "    <tr>\n",
       "      <th>291</th>\n",
       "      <td>Mike Rinck; Reinout W Wiers; Eni S Becker; Joh...</td>\n",
       "      <td></td>\n",
       "      <td>Relapse Prevention in Abstinent Alcoholics by ...</td>\n",
       "      <td>Alcohol-dependent patients show attentional an...</td>\n",
       "      <td>[{'heading': '', 'text': 'Why do so many peopl...</td>\n",
       "      <td>[{'title': 'Internal reliability of measures o...</td>\n",
       "      <td>[{'figure_label': '', 'figure_type': '', 'figu...</td>\n",
       "      <td>10.1037/ccp0000321.supp</td>\n",
       "      <td>{'reviewed': True, 'AAT': True, 'AAT_uncertain...</td>\n",
       "      <td>../data/interim/article_dicts/Rinck_2018.json</td>\n",
       "      <td>...</td>\n",
       "      <td>True</td>\n",
       "      <td>False</td>\n",
       "      <td>True</td>\n",
       "      <td>True</td>\n",
       "      <td>True</td>\n",
       "      <td>True</td>\n",
       "      <td>False</td>\n",
       "      <td>False</td>\n",
       "      <td>False</td>\n",
       "      <td>False</td>\n",
       "    </tr>\n",
       "  </tbody>\n",
       "</table>\n",
       "<p>3 rows × 22 columns</p>\n",
       "</div>"
      ],
      "text/plain": [
       "                                               authors    pub_date  \\\n",
       "11   Sercan Kahveci; Adrian Meule; Anja Lender; Jen...  2020-06-11   \n",
       "266  L Felice Reddy; Michael F Green; Jonathan K Wy...  2016-05-27   \n",
       "291  Mike Rinck; Reinout W Wiers; Eni S Becker; Joh...               \n",
       "\n",
       "                                                 title  \\\n",
       "11                                                       \n",
       "266  Approaching anger in schizophrenia: What an im...   \n",
       "291  Relapse Prevention in Abstinent Alcoholics by ...   \n",
       "\n",
       "                                              abstract  \\\n",
       "11   In a post-scarcity world, energy intake and ex...   \n",
       "266  Motivational deficits are important determinan...   \n",
       "291  Alcohol-dependent patients show attentional an...   \n",
       "\n",
       "                                              sections  \\\n",
       "11   [{'heading': 'Introduction', 'text': '', 'n_pu...   \n",
       "266  [{'heading': 'Introduction', 'text': 'Schizoph...   \n",
       "291  [{'heading': '', 'text': 'Why do so many peopl...   \n",
       "\n",
       "                                            references  \\\n",
       "11   [{'title': '', 'journal': '', 'year': '', 'aut...   \n",
       "266  [{'title': 'Intrinsic motivation in schizophre...   \n",
       "291  [{'title': 'Internal reliability of measures o...   \n",
       "\n",
       "                                               figures  \\\n",
       "11   [{'figure_label': '2', 'figure_type': '', 'fig...   \n",
       "266  [{'figure_label': '1', 'figure_type': '', 'fig...   \n",
       "291  [{'figure_label': '', 'figure_type': '', 'figu...   \n",
       "\n",
       "                              doi  \\\n",
       "11    10.1016/j.appet.2020.104758   \n",
       "266  10.1016/j.schres.2016.05.018   \n",
       "291       10.1037/ccp0000321.supp   \n",
       "\n",
       "                                           annotations  \\\n",
       "11   {'reviewed': True, 'AAT': True, 'AAT_uncertain...   \n",
       "266  {'reviewed': True, 'AAT': True, 'AAT_uncertain...   \n",
       "291  {'reviewed': True, 'AAT': True, 'AAT_uncertain...   \n",
       "\n",
       "                                                path  ...   AAT AAT_uncertain  \\\n",
       "11   ../data/interim/article_dicts/Kahveci_2020.json  ...  True         False   \n",
       "266    ../data/interim/article_dicts/Reddy_2016.json  ...  True         False   \n",
       "291    ../data/interim/article_dicts/Rinck_2018.json  ...  True         False   \n",
       "\n",
       "    split-half retest reliability_uncertain reviewed animal  drugs   food  \\\n",
       "11        True   True                 False     True  False  False  False   \n",
       "266      False   True                  True     True  False  False  False   \n",
       "291       True   True                  True     True  False  False  False   \n",
       "\n",
       "    general  \n",
       "11     True  \n",
       "266   False  \n",
       "291   False  \n",
       "\n",
       "[3 rows x 22 columns]"
      ]
     },
     "execution_count": 56,
     "metadata": {},
     "output_type": "execute_result"
    }
   ],
   "source": [
    "df[(df.AAT == True)&(df.retest==True)]"
   ]
  },
  {
   "cell_type": "markdown",
   "metadata": {},
   "source": [
    "ToDo: Double check Meule papers"
   ]
  },
  {
   "cell_type": "code",
   "execution_count": 57,
   "metadata": {},
   "outputs": [
    {
     "data": {
      "text/plain": [
       "array(['Only a study protocol.', 'review', '', 'animal study',\n",
       "       'borderline; faces',\n",
       "       'anxiety, mentiones that rinkck and becker are only study on reliability',\n",
       "       'reports retest reliability of other tasks but not AAT',\n",
       "       '1961 study, probably no AAT', 'pedophilia',\n",
       "       'mentions low reliability in discussion; interesting study',\n",
       "       'old study',\n",
       "       'title should be: \"Drawn to danger: trait anger predicts automatic approach behaviour to angry faces\"',\n",
       "       'not uncertain: SRT',\n",
       "       'mention problem with reliability (\"Remain unclear\")',\n",
       "       'report retest reliability of other questionnaires but not AAT',\n",
       "       'crazy high split-half', 'depression',\n",
       "       'drift diffusion modelling!',\n",
       "       \"smartphone based interviention;interesting; don't think this study was run though\",\n",
       "       'seems to mention that there is no data available on task reliability',\n",
       "       'meta-analysis; review',\n",
       "       'mentions that more studies are needed to test reliability',\n",
       "       'very interesting review on cross-species',\n",
       "       'latent growth curve; does not include task because low reliability',\n",
       "       'mentions reinecke and calls task reliable',\n",
       "       \"mentions that reliability hasn't been investigated\",\n",
       "       'interesting', 'protocol only', 'commentary', 'old',\n",
       "       'mentions reinecke but does not check reliability himself',\n",
       "       'mentions reinecke',\n",
       "       'conference; mentions thta reliabiliy should be reported',\n",
       "       'mentions non-results could be caused by reliability',\n",
       "       'mentions the reliability concers of AAT (ROdebaugh et al 2016)',\n",
       "       'mention that reliability is under debate', 'calls AAT reliable',\n",
       "       'interesting review', 'not sure whether retest was analyzed',\n",
       "       'report retest reliability for questionnaire but not for AAT',\n",
       "       'mentions reliability study',\n",
       "       'interesting; explicitely discuss reliability problems',\n",
       "       'interesting ddf', 'calls chronbach alpha of .49 fairly high',\n",
       "       'study protocol', 'this should be checked',\n",
       "       'mentions that retest reliability is still undetermined (cites Janssen et al., 2015)',\n",
       "       'interesting reliability distinctions', 'only feasibility',\n",
       "       'discusses reliability extensively',\n",
       "       'gamified task; smartphone based', 'important', 'interesting!',\n",
       "       'calls the AAT reliable', 'looks like they could have done retest',\n",
       "       'interesting eeg study',\n",
       "       'interesting; mentions that reliability is a problem; mentions its reliable but does not seem to test it',\n",
       "       'interesting; mentions aat is reliable', 'mentions reliability',\n",
       "       'feasibility study',\n",
       "       'mentions that retest reliability is not established yet',\n",
       "       'discuss moderate reliability as limitation', 'approach iat',\n",
       "       'mention retest for other tasks but not aat',\n",
       "       'discusses bad reliability', 'interesting app', 'very interesting',\n",
       "       'interesting; mention importance of studying retest reliability',\n",
       "       'interesting; eeg', 'not sure if they did split half',\n",
       "       'interesting!!!', 'not sure if they did retest',\n",
       "       'mentions reliability as limitation',\n",
       "       'mentions reliability as strength',\n",
       "       'discuss reliability extensively but do not seem to report it',\n",
       "       'mention retest reliability of other questionnaires but not of AAT',\n",
       "       'no retest?', 'feasibilitiy',\n",
       "       'calls aat reliable but does not seem to test it', 'feasibility',\n",
       "       'extensive discussion of reliability', nan], dtype=object)"
      ]
     },
     "execution_count": 57,
     "metadata": {},
     "output_type": "execute_result"
    }
   ],
   "source": [
    "df.note.unique()"
   ]
  },
  {
   "cell_type": "markdown",
   "metadata": {},
   "source": [
    "#### Limitations and todo\n",
    "I did not distinguish different types of AATs yet (basically if they explicitely called it AAT or if I was unsure, I categorized it as AAT; there might be some SRCs in there, definitely some fMRI adapted tasks, perhaps also some go/nogo and IATs slipped in.\n",
    "\n",
    "I did not include reviews/protocols in the AAT category, but they should be in the AAT literature folder\n",
    "\n",
    "Mention that several studies (including about all training studies) could have measured ICCs and it is out of the scope of this article to run a re-analysis of this data (Although this would of course be very useful to have).\n",
    "\n",
    "I haven't checked yet how appproach tendencies were calculated.\n",
    "\n",
    "There was an interesting vaccination study; perhaps fun to quickly do with a student?\n",
    "\n",
    "For practical reasons perhaps go -> No studies reviewed -> No studies AAT -> No studies reporting reliabilities -> of these[!] which types of AAT, which types of calculations."
   ]
  }
 ],
 "metadata": {
  "kernelspec": {
   "display_name": "Python 3 (ipykernel)",
   "language": "python",
   "name": "python3"
  },
  "language_info": {
   "codemirror_mode": {
    "name": "ipython",
    "version": 3
   },
   "file_extension": ".py",
   "mimetype": "text/x-python",
   "name": "python",
   "nbconvert_exporter": "python",
   "pygments_lexer": "ipython3",
   "version": "3.8.12"
  }
 },
 "nbformat": 4,
 "nbformat_minor": 4
}
