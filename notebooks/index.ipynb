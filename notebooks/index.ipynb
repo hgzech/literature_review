{
 "cells": [
  {
   "cell_type": "code",
   "execution_count": null,
   "metadata": {},
   "outputs": [],
   "source": [
    "#hide\n",
    "#from your_lib.core import *"
   ]
  },
  {
   "cell_type": "markdown",
   "metadata": {},
   "source": [
    "# Literature review\n",
    "\n",
    "> This project helps review scientific literature efficiently.  Its purpose is to give scientists a quick way to process a large amount of literature."
   ]
  },
  {
   "cell_type": "markdown",
   "metadata": {},
   "source": [
    "## Install"
   ]
  },
  {
   "cell_type": "markdown",
   "metadata": {
    "tags": []
   },
   "source": [
    "`pip install literature_review`\n",
    "\n",
    "> Note that this project uses GROBID, which should get automatically installed by text_extractor on first use.  However, if this fails, have a look at its [installation guide](https://grobid.readthedocs.io/en/latest/Install-Grobid/).  GROBID also requires Java Virtual Machine (versions 8 to 11 are suported). On a mac the easiest way to install it is via homebrew: `brew install adoptopenjdk/openjdk/adoptopenjdk11`):\n"
   ]
  },
  {
   "cell_type": "markdown",
   "metadata": {},
   "source": [
    "## How to use"
   ]
  },
  {
   "cell_type": "markdown",
   "metadata": {},
   "source": [
    "Fill me in please! Don't forget code examples:"
   ]
  },
  {
   "cell_type": "code",
   "execution_count": 2,
   "metadata": {},
   "outputs": [
    {
     "ename": "NameError",
     "evalue": "name 'make_articles' is not defined",
     "output_type": "error",
     "traceback": [
      "\u001b[0;31m---------------------------------------------------------------------------\u001b[0m",
      "\u001b[0;31mNameError\u001b[0m                                 Traceback (most recent call last)",
      "\u001b[0;32m/var/folders/16/2wxbnpk5321f8g40bxf0ht_h0000gn/T/ipykernel_75042/2117848704.py\u001b[0m in \u001b[0;36m<module>\u001b[0;34m\u001b[0m\n\u001b[1;32m      4\u001b[0m \u001b[0;34m\u001b[0m\u001b[0m\n\u001b[1;32m      5\u001b[0m \u001b[0;31m# Review\u001b[0m\u001b[0;34m\u001b[0m\u001b[0;34m\u001b[0m\u001b[0;34m\u001b[0m\u001b[0m\n\u001b[0;32m----> 6\u001b[0;31m \u001b[0marticles\u001b[0m \u001b[0;34m=\u001b[0m \u001b[0mmake_articles\u001b[0m\u001b[0;34m(\u001b[0m\u001b[0;34m'../data/interim/article_dicts/'\u001b[0m\u001b[0;34m)\u001b[0m\u001b[0;34m\u001b[0m\u001b[0;34m\u001b[0m\u001b[0m\n\u001b[0m\u001b[1;32m      7\u001b[0m ad = Article_Displayer(articles, \n\u001b[1;32m      8\u001b[0m                        \u001b[0mchecks\u001b[0m \u001b[0;34m=\u001b[0m \u001b[0;34m[\u001b[0m\u001b[0;34m'AAT'\u001b[0m\u001b[0;34m,\u001b[0m\u001b[0;34m'AAT_uncertain'\u001b[0m\u001b[0;34m,\u001b[0m\u001b[0;34m'split-half'\u001b[0m\u001b[0;34m,\u001b[0m\u001b[0;34m'retest'\u001b[0m\u001b[0;34m,\u001b[0m\u001b[0;34m'reliability_uncertain'\u001b[0m\u001b[0;34m]\u001b[0m\u001b[0;34m,\u001b[0m\u001b[0;34m\u001b[0m\u001b[0;34m\u001b[0m\u001b[0m\n",
      "\u001b[0;31mNameError\u001b[0m: name 'make_articles' is not defined"
     ]
    }
   ],
   "source": [
    "# Extract text information from pdfs\n",
    "from literature_review.text_extractor import extract_texts\n",
    "from literature_review.article import make_articles\n",
    "\n",
    "\n",
    "#extract_texts('../data/raw/','../data/interim/article_dicts')\n",
    "\n",
    "# Review \n",
    "articles = make_articles('../data/interim/article_dicts/')\n",
    "ad = Article_Displayer(articles, \n",
    "                       checks = ['AAT','AAT_uncertain','split-half','retest','reliability_uncertain'],\n",
    "                      search = r'\\brelia\\w+')"
   ]
  },
  {
   "cell_type": "code",
   "execution_count": null,
   "metadata": {},
   "outputs": [],
   "source": []
  }
 ],
 "metadata": {
  "kernelspec": {
   "display_name": "Python 3 (ipykernel)",
   "language": "python",
   "name": "python3"
  },
  "language_info": {
   "codemirror_mode": {
    "name": "ipython",
    "version": 3
   },
   "file_extension": ".py",
   "mimetype": "text/x-python",
   "name": "python",
   "nbconvert_exporter": "python",
   "pygments_lexer": "ipython3",
   "version": "3.8.12"
  }
 },
 "nbformat": 4,
 "nbformat_minor": 4
}
